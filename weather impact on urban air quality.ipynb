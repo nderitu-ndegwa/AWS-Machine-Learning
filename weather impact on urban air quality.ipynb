{
 "metadata": {
  "language_info": {
   "codemirror_mode": {
    "name": "ipython",
    "version": 3
   },
   "file_extension": ".py",
   "mimetype": "text/x-python",
   "name": "python",
   "nbconvert_exporter": "python",
   "pygments_lexer": "ipython3",
   "version": 3
  },
  "orig_nbformat": 4
 },
 "nbformat": 4,
 "nbformat_minor": 2,
 "cells": [
  {
   "cell_type": "code",
   "execution_count": null,
   "metadata": {},
   "outputs": [],
   "source": [
    "%maplotlib inline\n",
    "import pandas as pd \n",
    "import numpy as np \n",
    "from datetime import datetime\n",
    "import seaborn as sns\n",
    "import matplotlib.pyplot as plt"
   ]
  },
  {
   "cell_type": "code",
   "execution_count": null,
   "metadata": {},
   "outputs": [],
   "source": [
    "#Air pollution data\n",
    "column_names = ['daily_avg', 'no_avg', 'no2_avg']\n",
    "nox_df = pd.read_csv('https://s3.amazonaws.com/aws-machine-learning-blog/artifacts/air-quality/Dublin_Rathmines_NOx_2011_2016_ugm3_daily.csv', date_parser=parse, parse_dates = ['Daily_Avg'])\n",
    "nox_df.columns = col_names\n"
   ]
  },
  {
   "cell_type": "code",
   "execution_count": null,
   "metadata": {},
   "outputs": [],
   "source": [
    "from dateutil.relativedelta import relativedelta\n",
    "\n",
    "def convert_date_to_right_century(dt):\n",
    "    if dt > datetime.now():\n",
    "        dt -= relativedelta(years = 100)\n",
    "    return dt"
   ]
  },
  {
   "cell_type": "code",
   "execution_count": null,
   "metadata": {},
   "outputs": [],
   "source": [
    "#Setting date as index\n",
    "nox_df = nox_df.set_index('daily_avg')\n",
    "\n",
    "nox_df.head()"
   ]
  },
  {
   "cell_type": "code",
   "execution_count": null,
   "metadata": {},
   "outputs": [],
   "source": [
    "nox_df  = nox_df.interpolate(method = 'time')"
   ]
  },
  {
   "cell_type": "code",
   "execution_count": null,
   "metadata": {},
   "outputs": [],
   "source": [
    "nox_df['no2_avg'] = nox_df[]"
   ]
  },
  {
   "cell_type": "code",
   "execution_count": null,
   "metadata": {},
   "outputs": [],
   "source": [
    "llearner = LinearLearner(role=role,\n",
    "                predictor_type='regressor',\n",
    "                normalize_data=True,\n",
    "                normalize_label=True,\n",
    "                train_instance_count=1,\n",
    "                train_instance_type='ml.c5.xlarge',\n",
    "                output_path=output_location,\n",
    "                data_location=data_location)"
   ]
  },
  {
   "cell_type": "code",
   "execution_count": null,
   "metadata": {},
   "outputs": [],
   "source": [
    "llearner_predictor = llearner.deploy(initial_instance_count=1,\n",
    "                                 instance_type='ml.t2.medium')"
   ]
  },
  {
   "cell_type": "code",
   "execution_count": null,
   "metadata": {},
   "outputs": [],
   "source": [
    "result = llearner_predictor.predict(x_test.values.astype('float32'))"
   ]
  },
  {
   "cell_type": "code",
   "execution_count": null,
   "metadata": {},
   "outputs": [],
   "source": [
    "plt.plot(y_sm_test_df, label='actual')\n",
    "plt.plot(y_sm_pred_df, label='forecast')\n",
    "plt.legend()\n",
    "plt.show()"
   ]
  },
  {
   "cell_type": "code",
   "execution_count": null,
   "metadata": {},
   "outputs": [],
   "source": [
    "# sMAPE is used in KDD Air Quality challenge: https://biendata.com/competition/kdd_2018/evaluation/ \n",
    "def smape(actual, predicted):\n",
    "    dividend= np.abs(np.array(actual) - np.array(predicted))\n",
    "    denominator = np.array(actual) + np.array(predicted)\n",
    "    \n",
    "    return 2 * np.mean(np.divide(dividend, denominator, out=np.zeros_like(dividend), where=denominator!=0, casting='unsafe'))\n",
    "\n",
    "def print_metrics(y_test, y_pred):\n",
    "    print(\"RMSE: %.4f\" % sqrt(mean_squared_error(y_test, y_pred)))\n",
    "    print('Variance score: %.4f' % r2_score(y_test, y_pred))\n",
    "    print('Explained variance score: %.4f' % explained_variance_score(y_test, y_pred))\n",
    "    forecast_err = np.array(y_test) - np.array(y_pred)\n",
    "    print('Forecast bias: %.4f' % (np.sum(forecast_err) * 1.0/len(y_pred) ))\n",
    "    print('sMAPE: %.4f' % smape(y_test, y_pred))"
   ]
  },
  {
   "cell_type": "code",
   "execution_count": null,
   "metadata": {},
   "outputs": [],
   "source": []
  }
 ]
}